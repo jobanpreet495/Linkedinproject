{
 "cells": [
  {
   "cell_type": "code",
   "execution_count": 1,
   "id": "a4d6a06c-db25-412f-aea1-608831ddad49",
   "metadata": {},
   "outputs": [],
   "source": [
    "import pandas as pd\n",
    "\n",
    "df=pd.read_csv(\"output.csv\")\n",
    "\n",
    "df['Keywords'] = df['Keywords'].str.split(',')\n",
    "df['GroundTruth Keywords']=df['GroundTruth Keywords'].str.split(',')\n",
    "\n",
    "df_exploded_k = df.explode('Keywords')\n",
    "df_exploded_gk = df.explode('GroundTruth Keywords')\n",
    "\n",
    "keywords_list = df_exploded_k['Keywords'].str.strip().tolist()\n",
    "groundtruth_list = df_exploded_gk['GroundTruth Keywords'].tolist()"
   ]
  },
  {
   "cell_type": "code",
   "execution_count": 3,
   "id": "4f6fe2ae-9b2d-4b17-99e3-8014e8f07462",
   "metadata": {},
   "outputs": [
    {
     "name": "stdout",
     "output_type": "stream",
     "text": [
      "Jaccard Similarity: 7\n"
     ]
    }
   ],
   "source": [
    "def calculate_jaccard_similarity(list1, list2):\n",
    "    # Lowercase all keywords\n",
    "    list1_lower = [keyword.lower() for keyword in list1]\n",
    "    list2_lower = [keyword.lower() for keyword in list2]\n",
    "    \n",
    "    # Convert lists to sets\n",
    "    set1 = set(list1_lower)\n",
    "    set2 = set(list2_lower)\n",
    "    \n",
    "    # Calculate intersection and union\n",
    "    intersection = set1.intersection(set2)\n",
    "    union = set1.union(set2)\n",
    "    # Calculate Jaccard similarity\n",
    "    jaccard_similarity = len(intersection) / len(union)\n",
    "    \n",
    "    return jaccard_similarity\n",
    "\n",
    "#\n",
    "similarity_score = calculate_jaccard_similarity(groundtruth_list, keywords_list)\n",
    "print(\"Jaccard Similarity:\", round(similarity_score*10))"
   ]
  },
  {
   "cell_type": "code",
   "execution_count": null,
   "id": "0559122a-32db-4ce5-a576-538db8947128",
   "metadata": {},
   "outputs": [],
   "source": [
    "import gensim.downloader as api\n",
    "word2vec_model = api.load('word2vec-google-news-300')\n",
    "def get_average_embedding(keyword_list, word2vec_model):\n",
    "    embeddings = []\n",
    "    for keyword in keyword_list:\n",
    "        if keyword in word2vec_model:\n",
    "            embeddings.append(word2vec_model[keyword])\n",
    "    if embeddings:\n",
    "        return np.mean(embeddings, axis=0)\n",
    "    else:\n",
    "        return np.zeros(word2vec_model.vector_size)\n",
    "\n",
    "def cosine_similarity(vec1, vec2):\n",
    "    dot_product = np.dot(vec1, vec2)\n",
    "    norm_vec1 = np.linalg.norm(vec1)\n",
    "    norm_vec2 = np.linalg.norm(vec2)\n",
    "    return dot_product / (norm_vec1 * norm_vec2)\n",
    "\n",
    "groundtruth_embedding = get_average_embedding(groundtruth_list, word2vec_model)\n",
    "model_embedding = get_average_embedding(keywords_list, word2vec_model)\n",
    "\n",
    "\n",
    "similarity_score = cosine_similarity(groundtruth_embedding, model_embedding)\n",
    "print(similarity_score)\n",
    "similarity_percentage = similarity_score * 100\n",
    "print(f\"Word2Vec cosine similarity: {similarity_percentage:.2f}%\")"
   ]
  }
 ],
 "metadata": {
  "kernelspec": {
   "display_name": "Python 3 (ipykernel)",
   "language": "python",
   "name": "python3"
  },
  "language_info": {
   "codemirror_mode": {
    "name": "ipython",
    "version": 3
   },
   "file_extension": ".py",
   "mimetype": "text/x-python",
   "name": "python",
   "nbconvert_exporter": "python",
   "pygments_lexer": "ipython3",
   "version": "3.10.0"
  }
 },
 "nbformat": 4,
 "nbformat_minor": 5
}
